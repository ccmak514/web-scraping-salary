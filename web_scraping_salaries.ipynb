{
 "cells": [
  {
   "cell_type": "markdown",
   "metadata": {},
   "source": [
    "## Web Scrape Salary Data of Data Analyst I from Salary.com"
   ]
  },
  {
   "cell_type": "code",
   "execution_count": 1,
   "metadata": {},
   "outputs": [],
   "source": [
    "import re\n",
    "import csv\n",
    "import json\n",
    "import pandas as pd\n",
    "from time import sleep\n",
    "from bs4 import BeautifulSoup\n",
    "import requests"
   ]
  },
  {
   "cell_type": "markdown",
   "metadata": {},
   "source": [
    "### Get the URLs for All Cities"
   ]
  },
  {
   "cell_type": "markdown",
   "metadata": {},
   "source": [
    "<font size=4>First, examine https://www.salary.com/research/salary/benchmark/data-analyst-i-salary/juneau-ak. \n",
    "<br><br>By observation, only the last text <font color=red>(juneau-ak)</font> of the URLs determines which city we are considering and we need to get this text for all cities for further web scraping.\n",
    "<br><br>Therefore, inspect https://www.salary.com/research/salary/select-location and scrape the required text.</font>"
   ]
  },
  {
   "cell_type": "code",
   "execution_count": 2,
   "metadata": {},
   "outputs": [],
   "source": [
    "state_city_url = \"https://www.salary.com/research/salary/select-location\"\n",
    "state_city = requests.get(state_city_url)\n",
    "soup_state_city = BeautifulSoup(state_city.content, 'lxml')"
   ]
  },
  {
   "cell_type": "code",
   "execution_count": 3,
   "metadata": {},
   "outputs": [],
   "source": [
    "cities = soup_state_city.find_all('div', class_='sal-city-list sal-statecode-wrapper')[1:]\n",
    "temp0 = []\n",
    "for city in cities:\n",
    "    for link in city.find_all('a'):\n",
    "        temp0.append(link['href'])\n",
    "city_state_list = [link.split('/')[-1] for link in temp0]"
   ]
  },
  {
   "cell_type": "code",
   "execution_count": 4,
   "metadata": {},
   "outputs": [
    {
     "data": {
      "text/plain": [
       "['anchorage-ak', 'fairbanks-ak', 'juneau-ak', 'ketchikan-ak', 'palmer-ak']"
      ]
     },
     "execution_count": 4,
     "metadata": {},
     "output_type": "execute_result"
    }
   ],
   "source": [
    "city_state_list[:5]"
   ]
  },
  {
   "cell_type": "code",
   "execution_count": 5,
   "metadata": {},
   "outputs": [
    {
     "data": {
      "text/plain": [
       "808"
      ]
     },
     "execution_count": 5,
     "metadata": {},
     "output_type": "execute_result"
    }
   ],
   "source": [
    "len(city_state_list)"
   ]
  },
  {
   "cell_type": "markdown",
   "metadata": {},
   "source": [
    "### Get the Data for Each City"
   ]
  },
  {
   "cell_type": "markdown",
   "metadata": {},
   "source": [
    "<font size=4>To begin with, first examine the https://www.salary.com/research/salary/benchmark/data-analyst-i-salary/anchorage-ak which is the URL for Anchorage, Alaska.</font>"
   ]
  },
  {
   "cell_type": "code",
   "execution_count": 6,
   "metadata": {},
   "outputs": [
    {
     "data": {
      "text/plain": [
       "'https://www.salary.com/research/salary/benchmark/data-analyst-i-salary/anchorage-ak'"
      ]
     },
     "execution_count": 6,
     "metadata": {},
     "output_type": "execute_result"
    }
   ],
   "source": [
    "template = \"https://www.salary.com/research/salary/benchmark/data-analyst-i-salary/\"\n",
    "template1 = template+city_state_list[0]\n",
    "template1"
   ]
  },
  {
   "cell_type": "markdown",
   "metadata": {},
   "source": [
    "<font size=4>The data we want is stored in the `table` tag with `table-chart` class</font>"
   ]
  },
  {
   "cell_type": "code",
   "execution_count": 10,
   "metadata": {},
   "outputs": [
    {
     "data": {
      "text/plain": [
       "<table class=\"table-chart\">\n",
       "<thead>\n",
       "<tr>\n",
       "<td>Percentile</td>\n",
       "<td>Salary</td>\n",
       "<td>Location</td>\n",
       "<td class=\"nowrap\">Last Updated</td>\n",
       "</tr>\n",
       "</thead>\n",
       "<tbody>\n",
       "<tr>\n",
       "<td>10th Percentile Data Analyst I Salary</td>\n",
       "<td>$56,046</td>\n",
       "<td>Anchorage,AK</td>\n",
       "<td class=\"nowrap\">June 26, 2023</td>\n",
       "</tr>\n",
       "<tr>\n",
       "<td>25th Percentile Data Analyst I Salary</td>\n",
       "<td>$64,286</td>\n",
       "<td>Anchorage,AK</td>\n",
       "<td class=\"nowrap\">June 26, 2023</td>\n",
       "</tr>\n",
       "<tr>\n",
       "<td>50th Percentile Data Analyst I Salary</td>\n",
       "<td>$73,336</td>\n",
       "<td>Anchorage,AK</td>\n",
       "<td class=\"nowrap\">June 26, 2023</td>\n",
       "</tr>\n",
       "<tr>\n",
       "<td>75th Percentile Data Analyst I Salary</td>\n",
       "<td>$83,762</td>\n",
       "<td>Anchorage,AK</td>\n",
       "<td class=\"nowrap\">June 26, 2023</td>\n",
       "</tr>\n",
       "<tr>\n",
       "<td>90th Percentile Data Analyst I Salary</td>\n",
       "<td>$93,253</td>\n",
       "<td>Anchorage,AK</td>\n",
       "<td class=\"nowrap\">June 26, 2023</td>\n",
       "</tr>\n",
       "</tbody>\n",
       "</table>"
      ]
     },
     "execution_count": 10,
     "metadata": {},
     "output_type": "execute_result"
    }
   ],
   "source": [
    "city = requests.get(template1)\n",
    "soup_city = BeautifulSoup(city.content, 'lxml')\n",
    "title = soup_city.find('table', class_='table-chart')\n",
    "title"
   ]
  },
  {
   "cell_type": "markdown",
   "metadata": {},
   "source": [
    "<font size=4>To extract the data, we need to further find the `tr` tag and `td` tag as follows:</font>"
   ]
  },
  {
   "cell_type": "code",
   "execution_count": 11,
   "metadata": {},
   "outputs": [
    {
     "data": {
      "text/plain": [
       "[<tr>\n",
       " <td>Percentile</td>\n",
       " <td>Salary</td>\n",
       " <td>Location</td>\n",
       " <td class=\"nowrap\">Last Updated</td>\n",
       " </tr>,\n",
       " <tr>\n",
       " <td>10th Percentile Data Analyst I Salary</td>\n",
       " <td>$56,046</td>\n",
       " <td>Anchorage,AK</td>\n",
       " <td class=\"nowrap\">June 26, 2023</td>\n",
       " </tr>,\n",
       " <tr>\n",
       " <td>25th Percentile Data Analyst I Salary</td>\n",
       " <td>$64,286</td>\n",
       " <td>Anchorage,AK</td>\n",
       " <td class=\"nowrap\">June 26, 2023</td>\n",
       " </tr>,\n",
       " <tr>\n",
       " <td>50th Percentile Data Analyst I Salary</td>\n",
       " <td>$73,336</td>\n",
       " <td>Anchorage,AK</td>\n",
       " <td class=\"nowrap\">June 26, 2023</td>\n",
       " </tr>,\n",
       " <tr>\n",
       " <td>75th Percentile Data Analyst I Salary</td>\n",
       " <td>$83,762</td>\n",
       " <td>Anchorage,AK</td>\n",
       " <td class=\"nowrap\">June 26, 2023</td>\n",
       " </tr>,\n",
       " <tr>\n",
       " <td>90th Percentile Data Analyst I Salary</td>\n",
       " <td>$93,253</td>\n",
       " <td>Anchorage,AK</td>\n",
       " <td class=\"nowrap\">June 26, 2023</td>\n",
       " </tr>]"
      ]
     },
     "execution_count": 11,
     "metadata": {},
     "output_type": "execute_result"
    }
   ],
   "source": [
    "column_data = title.find_all('tr')\n",
    "column_data"
   ]
  },
  {
   "cell_type": "code",
   "execution_count": 12,
   "metadata": {},
   "outputs": [
    {
     "data": {
      "text/plain": [
       "[<td>10th Percentile Data Analyst I Salary</td>,\n",
       " <td>$56,046</td>,\n",
       " <td>Anchorage,AK</td>,\n",
       " <td class=\"nowrap\">June 26, 2023</td>]"
      ]
     },
     "execution_count": 12,
     "metadata": {},
     "output_type": "execute_result"
    }
   ],
   "source": [
    "column_data[1].find_all('td')"
   ]
  },
  {
   "cell_type": "markdown",
   "metadata": {},
   "source": [
    "<font size=4>Generalize above logic and put them into a function and use `try` and `except` to deal with connection error problems.</font>"
   ]
  },
  {
   "cell_type": "code",
   "execution_count": 26,
   "metadata": {},
   "outputs": [],
   "source": [
    "def one_row(city_state):\n",
    "    template = \"https://www.salary.com/research/salary/benchmark/data-analyst-i-salary/\"\n",
    "    template1 = template+city_state\n",
    "    try:\n",
    "        city = requests.get(template1)\n",
    "        if city.status_code != 200:\n",
    "            return ['NA', 'NA', 'NA', 'NA', 'NA', 'NA', 'NA']\n",
    "    except requests.exceptions.ConnectionError:\n",
    "        return ['NA', 'NA', 'NA', 'NA', 'NA', 'NA', 'NA']\n",
    "    soup_city = BeautifulSoup(city.content, 'lxml')\n",
    "    title = soup_city.find('table', class_='table-chart')\n",
    "    column_data = title.find_all('tr')\n",
    "    temp_table=[]\n",
    "    for data in column_data[1:]:\n",
    "        # store the 10, 25, 50, 75, 90\n",
    "        temp_table.append(int(data.find_all('td')[1].text.strip('$').replace(',', '')))\n",
    "    # Store city, State\n",
    "    temp_final_table = column_data[5].find_all('td')[2].text.split(',') + temp_table\n",
    "    return temp_final_table"
   ]
  },
  {
   "cell_type": "markdown",
   "metadata": {},
   "source": [
    "<font size=4>Build a new dataframe for storing the data. For saving time, only the first 200 city in the `city_state_list`.</font>"
   ]
  },
  {
   "cell_type": "code",
   "execution_count": null,
   "metadata": {},
   "outputs": [],
   "source": [
    "df = pd.DataFrame(columns=['city', 'state', '10th', '25th', '50th', '75th', '90th'])\n",
    "for code in city_state_list[:200]:\n",
    "    length = len(df)\n",
    "    df.loc[length] = one_row(code)\n",
    "    print(df.loc[length])\n",
    "    sleep(0.5)"
   ]
  },
  {
   "cell_type": "code",
   "execution_count": 32,
   "metadata": {},
   "outputs": [
    {
     "data": {
      "text/html": [
       "<div>\n",
       "<style scoped>\n",
       "    .dataframe tbody tr th:only-of-type {\n",
       "        vertical-align: middle;\n",
       "    }\n",
       "\n",
       "    .dataframe tbody tr th {\n",
       "        vertical-align: top;\n",
       "    }\n",
       "\n",
       "    .dataframe thead th {\n",
       "        text-align: right;\n",
       "    }\n",
       "</style>\n",
       "<table border=\"1\" class=\"dataframe\">\n",
       "  <thead>\n",
       "    <tr style=\"text-align: right;\">\n",
       "      <th></th>\n",
       "      <th>city</th>\n",
       "      <th>state</th>\n",
       "      <th>10th</th>\n",
       "      <th>25th</th>\n",
       "      <th>50th</th>\n",
       "      <th>75th</th>\n",
       "      <th>90th</th>\n",
       "    </tr>\n",
       "  </thead>\n",
       "  <tbody>\n",
       "    <tr>\n",
       "      <th>0</th>\n",
       "      <td>Anchorage</td>\n",
       "      <td>AK</td>\n",
       "      <td>56046</td>\n",
       "      <td>64286</td>\n",
       "      <td>73336</td>\n",
       "      <td>83762</td>\n",
       "      <td>93253</td>\n",
       "    </tr>\n",
       "    <tr>\n",
       "      <th>1</th>\n",
       "      <td>Fairbanks</td>\n",
       "      <td>AK</td>\n",
       "      <td>55814</td>\n",
       "      <td>64020</td>\n",
       "      <td>73033</td>\n",
       "      <td>83415</td>\n",
       "      <td>92868</td>\n",
       "    </tr>\n",
       "    <tr>\n",
       "      <th>2</th>\n",
       "      <td>Juneau</td>\n",
       "      <td>AK</td>\n",
       "      <td>55547</td>\n",
       "      <td>63713</td>\n",
       "      <td>72683</td>\n",
       "      <td>83016</td>\n",
       "      <td>92423</td>\n",
       "    </tr>\n",
       "    <tr>\n",
       "      <th>3</th>\n",
       "      <td>Ketchikan</td>\n",
       "      <td>AK</td>\n",
       "      <td>54791</td>\n",
       "      <td>62846</td>\n",
       "      <td>71694</td>\n",
       "      <td>81886</td>\n",
       "      <td>91166</td>\n",
       "    </tr>\n",
       "    <tr>\n",
       "      <th>4</th>\n",
       "      <td>Palmer</td>\n",
       "      <td>AK</td>\n",
       "      <td>55290</td>\n",
       "      <td>63419</td>\n",
       "      <td>72347</td>\n",
       "      <td>82632</td>\n",
       "      <td>91996</td>\n",
       "    </tr>\n",
       "  </tbody>\n",
       "</table>\n",
       "</div>"
      ],
      "text/plain": [
       "        city state   10th   25th   50th   75th   90th\n",
       "0  Anchorage    AK  56046  64286  73336  83762  93253\n",
       "1  Fairbanks    AK  55814  64020  73033  83415  92868\n",
       "2     Juneau    AK  55547  63713  72683  83016  92423\n",
       "3  Ketchikan    AK  54791  62846  71694  81886  91166\n",
       "4     Palmer    AK  55290  63419  72347  82632  91996"
      ]
     },
     "execution_count": 32,
     "metadata": {},
     "output_type": "execute_result"
    }
   ],
   "source": [
    "df.head()"
   ]
  },
  {
   "cell_type": "code",
   "execution_count": 37,
   "metadata": {},
   "outputs": [
    {
     "data": {
      "text/html": [
       "<div>\n",
       "<style scoped>\n",
       "    .dataframe tbody tr th:only-of-type {\n",
       "        vertical-align: middle;\n",
       "    }\n",
       "\n",
       "    .dataframe tbody tr th {\n",
       "        vertical-align: top;\n",
       "    }\n",
       "\n",
       "    .dataframe thead th {\n",
       "        text-align: right;\n",
       "    }\n",
       "</style>\n",
       "<table border=\"1\" class=\"dataframe\">\n",
       "  <thead>\n",
       "    <tr style=\"text-align: right;\">\n",
       "      <th></th>\n",
       "      <th>city</th>\n",
       "      <th>state</th>\n",
       "      <th>10th</th>\n",
       "      <th>25th</th>\n",
       "      <th>50th</th>\n",
       "      <th>75th</th>\n",
       "      <th>90th</th>\n",
       "    </tr>\n",
       "  </thead>\n",
       "  <tbody>\n",
       "    <tr>\n",
       "      <th>195</th>\n",
       "      <td>Port Saint Lucie</td>\n",
       "      <td>FL</td>\n",
       "      <td>47510</td>\n",
       "      <td>54495</td>\n",
       "      <td>62168</td>\n",
       "      <td>71005</td>\n",
       "      <td>79052</td>\n",
       "    </tr>\n",
       "    <tr>\n",
       "      <th>196</th>\n",
       "      <td>Saint Petersburg</td>\n",
       "      <td>FL</td>\n",
       "      <td>47973</td>\n",
       "      <td>55026</td>\n",
       "      <td>62773</td>\n",
       "      <td>71697</td>\n",
       "      <td>79821</td>\n",
       "    </tr>\n",
       "    <tr>\n",
       "      <th>197</th>\n",
       "      <td>Sarasota</td>\n",
       "      <td>FL</td>\n",
       "      <td>48124</td>\n",
       "      <td>55199</td>\n",
       "      <td>62971</td>\n",
       "      <td>71923</td>\n",
       "      <td>80073</td>\n",
       "    </tr>\n",
       "    <tr>\n",
       "      <th>198</th>\n",
       "      <td>Spring Hill</td>\n",
       "      <td>FL</td>\n",
       "      <td>47574</td>\n",
       "      <td>54568</td>\n",
       "      <td>62251</td>\n",
       "      <td>71100</td>\n",
       "      <td>79157</td>\n",
       "    </tr>\n",
       "    <tr>\n",
       "      <th>199</th>\n",
       "      <td>Tallahassee</td>\n",
       "      <td>FL</td>\n",
       "      <td>45402</td>\n",
       "      <td>52078</td>\n",
       "      <td>59409</td>\n",
       "      <td>67855</td>\n",
       "      <td>75544</td>\n",
       "    </tr>\n",
       "  </tbody>\n",
       "</table>\n",
       "</div>"
      ],
      "text/plain": [
       "                 city state   10th   25th   50th   75th   90th\n",
       "195  Port Saint Lucie    FL  47510  54495  62168  71005  79052\n",
       "196  Saint Petersburg    FL  47973  55026  62773  71697  79821\n",
       "197          Sarasota    FL  48124  55199  62971  71923  80073\n",
       "198       Spring Hill    FL  47574  54568  62251  71100  79157\n",
       "199       Tallahassee    FL  45402  52078  59409  67855  75544"
      ]
     },
     "execution_count": 37,
     "metadata": {},
     "output_type": "execute_result"
    }
   ],
   "source": [
    "df.tail()"
   ]
  },
  {
   "cell_type": "code",
   "execution_count": 39,
   "metadata": {},
   "outputs": [],
   "source": [
    "df.to_csv('salary.csv', index=False)"
   ]
  }
 ],
 "metadata": {
  "kernelspec": {
   "display_name": "Python 3.10.7 64-bit",
   "language": "python",
   "name": "python3"
  },
  "language_info": {
   "codemirror_mode": {
    "name": "ipython",
    "version": 3
   },
   "file_extension": ".py",
   "mimetype": "text/x-python",
   "name": "python",
   "nbconvert_exporter": "python",
   "pygments_lexer": "ipython3",
   "version": "3.10.7"
  },
  "orig_nbformat": 4,
  "vscode": {
   "interpreter": {
    "hash": "aee8b7b246df8f9039afb4144a1f6fd8d2ca17a180786b69acc140d282b71a49"
   }
  }
 },
 "nbformat": 4,
 "nbformat_minor": 2
}
